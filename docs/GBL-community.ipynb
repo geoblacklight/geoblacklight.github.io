{
 "cells": [
  {
   "cell_type": "markdown",
   "id": "1c48d65a",
   "metadata": {
    "slideshow": {
     "slide_type": "slide"
    }
   },
   "source": [
    "![logo](images/geoblacklight-logo.png)\n",
    "\n",
    "### GeoBlacklight Community\n",
    "\n",
    "- Colocate² Unconference\n",
    "- February 26, 2025\n",
    "- Karen Majewicz"
   ]
  },
  {
   "cell_type": "markdown",
   "id": "4515c467",
   "metadata": {
    "slideshow": {
     "slide_type": "slide"
    }
   },
   "source": [
    "## A Community of Geospatial Problem-Solvers\n",
    "\n",
    "- More than just software\n",
    "- People + shared workflows & metadata\n"
   ]
  },
  {
   "cell_type": "markdown",
   "id": "526c40e7",
   "metadata": {
    "slideshow": {
     "slide_type": "slide"
    }
   },
   "source": [
    "## Community Characteristics\n",
    "\n",
    "- Rails devs, GIS experts, metadata librarians\n",
    "- Various scopes: single institution or multi-institution\n",
    "- Shared OpenGeoMetadata profile"
   ]
  },
  {
   "cell_type": "markdown",
   "id": "f342121d",
   "metadata": {
    "slideshow": {
     "slide_type": "slide"
    }
   },
   "source": [
    "## A Brief History\n",
    "\n",
    "- Began ~10 years ago with dev/metadata collab\n",
    "- Monthly meetings launched in 2017\n",
    "- Grown to 13+ known instances"
   ]
  },
  {
   "cell_type": "markdown",
   "id": "46b28410",
   "metadata": {
    "slideshow": {
     "slide_type": "slide"
    }
   },
   "source": [
    "## GBL + IIIF\n",
    "\n",
    "- Initially used mostly for GIS data\n",
    "- Competing standards (MARC vs. FGDC/ISO)\n",
    "- Community enhancements for multi-part maps\n",
    "- Allmaps plugin merges historical maps & GIS"
   ]
  },
  {
   "cell_type": "markdown",
   "id": "959aaa5b",
   "metadata": {
    "slideshow": {
     "slide_type": "slide"
    }
   },
   "source": [
    "### GeoBlacklight is one of the best platforms for unifying discovery of both maps and data."
   ]
  },
  {
   "cell_type": "markdown",
   "id": "26757ab8",
   "metadata": {
    "slideshow": {
     "slide_type": "slide"
    }
   },
   "source": [
    "## GeoBlacklight Named Projects\n",
    "\n",
    "- Codebase (extended from Blacklight)\n",
    "- Plugins & Docker tools\n",
    "- Documentation site on GitHub Pages"
   ]
  },
  {
   "cell_type": "markdown",
   "id": "1e6418eb",
   "metadata": {
    "slideshow": {
     "slide_type": "slide"
    }
   },
   "source": [
    "## Community Activity Cycles\n",
    "\n",
    "- Monthly meetings (updates, shared issues)\n",
    "- Quarterly GitHub triage\n",
    "- Biannual sprints (code, docs, metadata)\n",
    "- Workgroups (governance, usability, georeferencing)"
   ]
  },
  {
   "cell_type": "markdown",
   "id": "ced9119f",
   "metadata": {
    "slideshow": {
     "slide_type": "slide"
    }
   },
   "source": [
    "## Community Roles\n",
    "\n",
    "- Moving away from single coordinator\n",
    "- Administrative, Documentation, Technical"
   ]
  },
  {
   "cell_type": "markdown",
   "id": "fa150cc3",
   "metadata": {
    "slideshow": {
     "slide_type": "slide"
    }
   },
   "source": [
    "## Core Challenges\n",
    "\n",
    "- Small/niche user base → few active contributors\n",
    "- Consensus governance → decision uncertainty\n",
    "- Equity concerns (resource disparities)\n"
   ]
  },
  {
   "cell_type": "markdown",
   "id": "b871aa9f",
   "metadata": {
    "slideshow": {
     "slide_type": "slide"
    }
   },
   "source": [
    "## Technical Barriers to Adoption\n",
    "\n",
    "- Tech barriers (Ruby on Rails vs. Python/JS skill sets)\n",
    "- No built-in repository → extra setup\n",
    "- GBL not one-size-fits-all → not a fit for all use cases\n"
   ]
  },
  {
   "cell_type": "markdown",
   "id": "0cd4db3d",
   "metadata": {
    "slideshow": {
     "slide_type": "slide"
    }
   },
   "source": [
    "## Geo4Libraries Rebrand\n",
    "\n",
    "- Moving beyond a single software\n",
    "- Focus on shared needs, metadata, & domains\n",
    "- Provide a formal “home” for:\n",
    "    - OpenGeoMetadata (Aardvark schema)\n",
    "    - OpenIndexMaps (GeoJSON for index maps)\n",
    "    - Geo4LibCamp (annual unconference)"
   ]
  },
  {
   "cell_type": "markdown",
   "id": "c983d213",
   "metadata": {
    "slideshow": {
     "slide_type": "slide"
    }
   },
   "source": [
    "## Umbrella Organization\n",
    "\n",
    "- Broader contributor base & shared leadership\n",
    "- Support emerging tools (e.g., Allmaps Curator)\n",
    "- “Enduring data, ephemeral applications”"
   ]
  },
  {
   "cell_type": "markdown",
   "id": "3eb02c8e-d7ad-4279-bf6e-47fd2cc1cc56",
   "metadata": {},
   "source": [
    "![umbrella](images/umbrella.png)"
   ]
  },
  {
   "cell_type": "code",
   "execution_count": null,
   "id": "267936d1-586d-4c96-90be-f00772265f9a",
   "metadata": {},
   "outputs": [],
   "source": []
  }
 ],
 "metadata": {
  "celltoolbar": "Slideshow",
  "kernelspec": {
   "display_name": "Python 3 (ipykernel)",
   "language": "python",
   "name": "python3"
  },
  "language_info": {
   "codemirror_mode": {
    "name": "ipython",
    "version": 3
   },
   "file_extension": ".py",
   "mimetype": "text/x-python",
   "name": "python",
   "nbconvert_exporter": "python",
   "pygments_lexer": "ipython3",
   "version": "3.13.2"
  }
 },
 "nbformat": 4,
 "nbformat_minor": 5
}
